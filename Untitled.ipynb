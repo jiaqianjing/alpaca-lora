{
 "cells": [
  {
   "cell_type": "markdown",
   "id": "1727a01a-28ac-45a6-a8fd-21b4a899a3b0",
   "metadata": {},
   "source": [
    "## Merge all files"
   ]
  },
  {
   "cell_type": "code",
   "execution_count": 1,
   "id": "c0b393cb-82bc-436f-b34c-aa8b2fab3837",
   "metadata": {},
   "outputs": [],
   "source": [
    "# import pandas as pd\n",
    "# data_1 = pd.read_json('./zh_alpaca_from_openai.json')\n",
    "# data_2 = pd.read_json('./zh_alpaca_from_translate.json')\n",
    "# data_3 = pd.concat([data_1, data_2])\n",
    "# data_3.to_json('./zh_alpaca_total.json', orient='records', force_ascii=False)"
   ]
  },
  {
   "cell_type": "code",
   "execution_count": 1,
   "id": "528b504e-6add-48a2-a8a0-12546fce8575",
   "metadata": {},
   "outputs": [],
   "source": [
    "import pandas as pd"
   ]
  },
  {
   "cell_type": "code",
   "execution_count": 2,
   "id": "9fb368f2-3267-467f-9938-9623ed2b81e7",
   "metadata": {
    "tags": []
   },
   "outputs": [],
   "source": [
    "all_instructions = pd.read_json('./zh_alpaca_total.json')"
   ]
  },
  {
   "cell_type": "code",
   "execution_count": 4,
   "id": "8d40ed7a-76b0-4950-be00-27c30628a1c0",
   "metadata": {
    "tags": []
   },
   "outputs": [
    {
     "data": {
      "text/html": [
       "<div>\n",
       "<style scoped>\n",
       "    .dataframe tbody tr th:only-of-type {\n",
       "        vertical-align: middle;\n",
       "    }\n",
       "\n",
       "    .dataframe tbody tr th {\n",
       "        vertical-align: top;\n",
       "    }\n",
       "\n",
       "    .dataframe thead th {\n",
       "        text-align: right;\n",
       "    }\n",
       "</style>\n",
       "<table border=\"1\" class=\"dataframe\">\n",
       "  <thead>\n",
       "    <tr style=\"text-align: right;\">\n",
       "      <th></th>\n",
       "      <th>instruction</th>\n",
       "      <th>input</th>\n",
       "      <th>output</th>\n",
       "    </tr>\n",
       "  </thead>\n",
       "  <tbody>\n",
       "    <tr>\n",
       "      <th>0</th>\n",
       "      <td>编写一个生成随机数的代码</td>\n",
       "      <td></td>\n",
       "      <td>可以使用random库中的函数来实现</td>\n",
       "    </tr>\n",
       "    <tr>\n",
       "      <th>1</th>\n",
       "      <td>使用Python进行数据分析</td>\n",
       "      <td>给定一个包含一列数字的csv文件</td>\n",
       "      <td>可以使用pandas库中的read_csv函数读取数据并进行分析</td>\n",
       "    </tr>\n",
       "    <tr>\n",
       "      <th>2</th>\n",
       "      <td>编写一个SQL语句用于查询包含某个关键词的记录</td>\n",
       "      <td>给定一个包含多个记录的数据库表</td>\n",
       "      <td>可以使用SELECT语句中的LIKE运算符来实现模糊查询</td>\n",
       "    </tr>\n",
       "    <tr>\n",
       "      <th>3</th>\n",
       "      <td>使用Python编写一个爬虫程序</td>\n",
       "      <td>给定一个目标网站的URL</td>\n",
       "      <td>可以使用BeautifulSoup库和requests库来实现爬取数据</td>\n",
       "    </tr>\n",
       "    <tr>\n",
       "      <th>4</th>\n",
       "      <td>使用Python编写一个TCP服务器</td>\n",
       "      <td></td>\n",
       "      <td>可以使用socket库来实现</td>\n",
       "    </tr>\n",
       "  </tbody>\n",
       "</table>\n",
       "</div>"
      ],
      "text/plain": [
       "               instruction             input  \\\n",
       "0             编写一个生成随机数的代码                     \n",
       "1           使用Python进行数据分析  给定一个包含一列数字的csv文件   \n",
       "2  编写一个SQL语句用于查询包含某个关键词的记录   给定一个包含多个记录的数据库表   \n",
       "3         使用Python编写一个爬虫程序      给定一个目标网站的URL   \n",
       "4       使用Python编写一个TCP服务器                     \n",
       "\n",
       "                                output  \n",
       "0                   可以使用random库中的函数来实现  \n",
       "1     可以使用pandas库中的read_csv函数读取数据并进行分析  \n",
       "2         可以使用SELECT语句中的LIKE运算符来实现模糊查询  \n",
       "3  可以使用BeautifulSoup库和requests库来实现爬取数据  \n",
       "4                       可以使用socket库来实现  "
      ]
     },
     "execution_count": 4,
     "metadata": {},
     "output_type": "execute_result"
    }
   ],
   "source": [
    "all_instructions.head(5)"
   ]
  },
  {
   "cell_type": "code",
   "execution_count": null,
   "id": "adfaaf09-d4e7-43a0-8b6c-1475e0cf2b53",
   "metadata": {},
   "outputs": [],
   "source": []
  }
 ],
 "metadata": {
  "kernelspec": {
   "display_name": "Python 3 (ipykernel)",
   "language": "python",
   "name": "python3"
  },
  "language_info": {
   "codemirror_mode": {
    "name": "ipython",
    "version": 3
   },
   "file_extension": ".py",
   "mimetype": "text/x-python",
   "name": "python",
   "nbconvert_exporter": "python",
   "pygments_lexer": "ipython3",
   "version": "3.7.13"
  }
 },
 "nbformat": 4,
 "nbformat_minor": 5
}
