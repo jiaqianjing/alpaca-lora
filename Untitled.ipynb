{
 "cells": [
  {
   "cell_type": "markdown",
   "id": "1727a01a-28ac-45a6-a8fd-21b4a899a3b0",
   "metadata": {},
   "source": [
    "## Merge all files"
   ]
  },
  {
   "cell_type": "code",
   "execution_count": 1,
   "id": "c0b393cb-82bc-436f-b34c-aa8b2fab3837",
   "metadata": {},
   "outputs": [],
   "source": [
    "# import pandas as pd\n",
    "# data_1 = pd.read_json('./zh_alpaca_from_openai.json')\n",
    "# data_2 = pd.read_json('./zh_alpaca_from_translate.json')\n",
    "# data_3 = pd.concat([data_1, data_2])\n",
    "# data_3.to_json('./zh_alpaca_total.json', orient='records', force_ascii=False)"
   ]
  },
  {
   "cell_type": "code",
   "execution_count": 2,
   "id": "528b504e-6add-48a2-a8a0-12546fce8575",
   "metadata": {},
   "outputs": [],
   "source": [
    "import pandas as pd"
   ]
  },
  {
   "cell_type": "code",
   "execution_count": 3,
   "id": "9fb368f2-3267-467f-9938-9623ed2b81e7",
   "metadata": {
    "tags": []
   },
   "outputs": [],
   "source": [
    "patent_df = pd.read_json('./patent_instructions.json')"
   ]
  },
  {
   "cell_type": "code",
   "execution_count": 4,
   "id": "8d40ed7a-76b0-4950-be00-27c30628a1c0",
   "metadata": {
    "tags": []
   },
   "outputs": [
    {
     "data": {
      "text/html": [
       "<div>\n",
       "<style scoped>\n",
       "    .dataframe tbody tr th:only-of-type {\n",
       "        vertical-align: middle;\n",
       "    }\n",
       "\n",
       "    .dataframe tbody tr th {\n",
       "        vertical-align: top;\n",
       "    }\n",
       "\n",
       "    .dataframe thead th {\n",
       "        text-align: right;\n",
       "    }\n",
       "</style>\n",
       "<table border=\"1\" class=\"dataframe\">\n",
       "  <thead>\n",
       "    <tr style=\"text-align: right;\">\n",
       "      <th></th>\n",
       "      <th>instruction</th>\n",
       "      <th>output</th>\n",
       "    </tr>\n",
       "  </thead>\n",
       "  <tbody>\n",
       "    <tr>\n",
       "      <th>0</th>\n",
       "      <td>一种马尾千金草的种植方法</td>\n",
       "      <td>本发明涉及中药种植技术领域，尤其是一种马尾千金草的种植方法，该种植方法包括以下步骤：S1、选...</td>\n",
       "    </tr>\n",
       "    <tr>\n",
       "      <th>1</th>\n",
       "      <td>一种三箱加药系统</td>\n",
       "      <td>本发明公开了一种三箱加药系统，包括底板和滚轮，所述底板的底部设置有滚轮，所述底板的顶端设置有...</td>\n",
       "    </tr>\n",
       "    <tr>\n",
       "      <th>2</th>\n",
       "      <td>一种多功能结账装置</td>\n",
       "      <td>本发明提供了一种多功能结账装置，包括机体、称重装置、显示屏、包装袋、打包装置、传输带以及微处...</td>\n",
       "    </tr>\n",
       "    <tr>\n",
       "      <th>3</th>\n",
       "      <td>一种无卤阻燃PVC材料</td>\n",
       "      <td>本发明涉及一种无卤阻燃PVC材料，按照重量份，由以下成分组成：PVC树脂100份，增塑剂50...</td>\n",
       "    </tr>\n",
       "    <tr>\n",
       "      <th>4</th>\n",
       "      <td>一种复合环氧树脂材料</td>\n",
       "      <td>本发明涉及一种复合环氧树脂材料，其特征在于，以重量份计算，包括以下成分：环氧树脂100份、热...</td>\n",
       "    </tr>\n",
       "  </tbody>\n",
       "</table>\n",
       "</div>"
      ],
      "text/plain": [
       "    instruction                                             output\n",
       "0  一种马尾千金草的种植方法  本发明涉及中药种植技术领域，尤其是一种马尾千金草的种植方法，该种植方法包括以下步骤：S1、选...\n",
       "1      一种三箱加药系统  本发明公开了一种三箱加药系统，包括底板和滚轮，所述底板的底部设置有滚轮，所述底板的顶端设置有...\n",
       "2     一种多功能结账装置  本发明提供了一种多功能结账装置，包括机体、称重装置、显示屏、包装袋、打包装置、传输带以及微处...\n",
       "3   一种无卤阻燃PVC材料  本发明涉及一种无卤阻燃PVC材料，按照重量份，由以下成分组成：PVC树脂100份，增塑剂50...\n",
       "4    一种复合环氧树脂材料  本发明涉及一种复合环氧树脂材料，其特征在于，以重量份计算，包括以下成分：环氧树脂100份、热..."
      ]
     },
     "execution_count": 4,
     "metadata": {},
     "output_type": "execute_result"
    }
   ],
   "source": [
    "patent_df.drop(columns=['input'], inplace=True)\n",
    "patent_df.head(5)"
   ]
  },
  {
   "cell_type": "code",
   "execution_count": 5,
   "id": "adfaaf09-d4e7-43a0-8b6c-1475e0cf2b53",
   "metadata": {
    "tags": []
   },
   "outputs": [
    {
     "data": {
      "text/plain": [
       "687186"
      ]
     },
     "execution_count": 5,
     "metadata": {},
     "output_type": "execute_result"
    }
   ],
   "source": [
    "len(patent_df)"
   ]
  },
  {
   "cell_type": "markdown",
   "id": "061e6b57-bd3c-4e33-90e0-d93805d892d2",
   "metadata": {},
   "source": [
    "## Belle data"
   ]
  },
  {
   "cell_type": "code",
   "execution_count": 6,
   "id": "256327b9-160d-416f-8818-f8252821d270",
   "metadata": {
    "tags": []
   },
   "outputs": [],
   "source": [
    "import pandas as pd\n",
    "import json\n",
    "\n",
    "def read_belle_json2df(file):\n",
    "    temp = []\n",
    "    with open(file, 'r') as f:\n",
    "        for r in f.readlines():\n",
    "            temp.append(json.loads(r))\n",
    "\n",
    "    # 将数据转换为 DataFrame\n",
    "    df = pd.DataFrame(temp)\n",
    "    return df"
   ]
  },
  {
   "cell_type": "code",
   "execution_count": 7,
   "id": "2a04f8a5-d854-41bd-9554-e4e8d71b778b",
   "metadata": {
    "tags": []
   },
   "outputs": [],
   "source": [
    "belle_01 = read_belle_json2df('./Belle.train.json')"
   ]
  },
  {
   "cell_type": "code",
   "execution_count": 11,
   "id": "444528b7-e352-46e4-8811-52317dc7d24f",
   "metadata": {
    "tags": []
   },
   "outputs": [
    {
     "data": {
      "text/plain": [
       "543314"
      ]
     },
     "execution_count": 11,
     "metadata": {},
     "output_type": "execute_result"
    }
   ],
   "source": [
    "len(belle_01)"
   ]
  },
  {
   "cell_type": "code",
   "execution_count": 8,
   "id": "b4fb9e3f-72c8-435f-9573-20129e21df31",
   "metadata": {
    "tags": []
   },
   "outputs": [
    {
     "data": {
      "text/html": [
       "<div>\n",
       "<style scoped>\n",
       "    .dataframe tbody tr th:only-of-type {\n",
       "        vertical-align: middle;\n",
       "    }\n",
       "\n",
       "    .dataframe tbody tr th {\n",
       "        vertical-align: top;\n",
       "    }\n",
       "\n",
       "    .dataframe thead th {\n",
       "        text-align: right;\n",
       "    }\n",
       "</style>\n",
       "<table border=\"1\" class=\"dataframe\">\n",
       "  <thead>\n",
       "    <tr style=\"text-align: right;\">\n",
       "      <th></th>\n",
       "      <th>input</th>\n",
       "      <th>target</th>\n",
       "    </tr>\n",
       "  </thead>\n",
       "  <tbody>\n",
       "    <tr>\n",
       "      <th>0</th>\n",
       "      <td>用一句话描述地球为什么是独一无二的。\\n\\n</td>\n",
       "      <td>地球上有适宜生命存在的条件和多样化的生命形式。</td>\n",
       "    </tr>\n",
       "    <tr>\n",
       "      <th>1</th>\n",
       "      <td>给出一段对话，要求GPT模型使用合适的语气和回答方式继续对话。\\n对话：\\nA：你今天看起来...</td>\n",
       "      <td>A: 这太好了！你的新工作听起来很令人兴奋。你对接下来的日子有什么期望吗？\\nB: 是啊，我...</td>\n",
       "    </tr>\n",
       "    <tr>\n",
       "      <th>2</th>\n",
       "      <td>基于以下提示填写以下句子的空格。\\n提示：\\n- 提供多种现实世界的场景\\n- 空格应填写一...</td>\n",
       "      <td>多种形容词可填，以下是其中一些例子：\\n- 愉快的\\n- 惬意的\\n- 轻松的\\n- 安静的...</td>\n",
       "    </tr>\n",
       "  </tbody>\n",
       "</table>\n",
       "</div>"
      ],
      "text/plain": [
       "                                               input  \\\n",
       "0                             用一句话描述地球为什么是独一无二的。\\n\\n   \n",
       "1  给出一段对话，要求GPT模型使用合适的语气和回答方式继续对话。\\n对话：\\nA：你今天看起来...   \n",
       "2  基于以下提示填写以下句子的空格。\\n提示：\\n- 提供多种现实世界的场景\\n- 空格应填写一...   \n",
       "\n",
       "                                              target  \n",
       "0                            地球上有适宜生命存在的条件和多样化的生命形式。  \n",
       "1  A: 这太好了！你的新工作听起来很令人兴奋。你对接下来的日子有什么期望吗？\\nB: 是啊，我...  \n",
       "2  多种形容词可填，以下是其中一些例子：\\n- 愉快的\\n- 惬意的\\n- 轻松的\\n- 安静的...  "
      ]
     },
     "execution_count": 8,
     "metadata": {},
     "output_type": "execute_result"
    }
   ],
   "source": [
    "belle_01.head(3)"
   ]
  },
  {
   "cell_type": "code",
   "execution_count": 9,
   "id": "bc669dca-7c7d-4e28-90b0-d5e24afa2153",
   "metadata": {
    "tags": []
   },
   "outputs": [],
   "source": [
    "belle_02 = read_belle_json2df('./belle_open_source_1M.train.json')"
   ]
  },
  {
   "cell_type": "code",
   "execution_count": 12,
   "id": "6f26365e-67ff-408c-b6f1-53a2797a0ce6",
   "metadata": {
    "tags": []
   },
   "outputs": [
    {
     "data": {
      "text/plain": [
       "1000000"
      ]
     },
     "execution_count": 12,
     "metadata": {},
     "output_type": "execute_result"
    }
   ],
   "source": [
    "len(belle_02)"
   ]
  },
  {
   "cell_type": "code",
   "execution_count": 13,
   "id": "7eae5107-8e84-4af0-8730-45f82b818092",
   "metadata": {
    "tags": []
   },
   "outputs": [
    {
     "data": {
      "text/html": [
       "<div>\n",
       "<style scoped>\n",
       "    .dataframe tbody tr th:only-of-type {\n",
       "        vertical-align: middle;\n",
       "    }\n",
       "\n",
       "    .dataframe tbody tr th {\n",
       "        vertical-align: top;\n",
       "    }\n",
       "\n",
       "    .dataframe thead th {\n",
       "        text-align: right;\n",
       "    }\n",
       "</style>\n",
       "<table border=\"1\" class=\"dataframe\">\n",
       "  <thead>\n",
       "    <tr style=\"text-align: right;\">\n",
       "      <th></th>\n",
       "      <th>id</th>\n",
       "      <th>input</th>\n",
       "      <th>target</th>\n",
       "    </tr>\n",
       "  </thead>\n",
       "  <tbody>\n",
       "    <tr>\n",
       "      <th>0</th>\n",
       "      <td>zh_seed_tasks_new_output_1679555173_713480</td>\n",
       "      <td>给定两个句子，将它们合并为一个句子并保持语义连贯性\\n\\n\\n\\n- 鲍勃喜欢跑步。他每天早...</td>\n",
       "      <td>鲍勃每天早上都喜欢去公园跑步，而这个甜苹果是由我们的当地果园提供的。</td>\n",
       "    </tr>\n",
       "    <tr>\n",
       "      <th>1</th>\n",
       "      <td>zh_seed_tasks_new_output_1679555180_779248</td>\n",
       "      <td>将以下句子翻译成法语。\\n\\n\"我喜欢在公园里散步\"\\n</td>\n",
       "      <td>J'aime me promener dans le parc.</td>\n",
       "    </tr>\n",
       "    <tr>\n",
       "      <th>2</th>\n",
       "      <td>zh_seed_tasks_new_output_1679555243_1400866</td>\n",
       "      <td>打开电子邮件并检查收到的最新邮件。如果有来自客户的邮件，请向他们发送感谢邮件。\\n</td>\n",
       "      <td>打开电子邮件并检查最新邮件。若有来自客户的邮件，请发送感谢邮件。</td>\n",
       "    </tr>\n",
       "  </tbody>\n",
       "</table>\n",
       "</div>"
      ],
      "text/plain": [
       "                                            id  \\\n",
       "0   zh_seed_tasks_new_output_1679555173_713480   \n",
       "1   zh_seed_tasks_new_output_1679555180_779248   \n",
       "2  zh_seed_tasks_new_output_1679555243_1400866   \n",
       "\n",
       "                                               input  \\\n",
       "0  给定两个句子，将它们合并为一个句子并保持语义连贯性\\n\\n\\n\\n- 鲍勃喜欢跑步。他每天早...   \n",
       "1                       将以下句子翻译成法语。\\n\\n\"我喜欢在公园里散步\"\\n   \n",
       "2          打开电子邮件并检查收到的最新邮件。如果有来自客户的邮件，请向他们发送感谢邮件。\\n   \n",
       "\n",
       "                               target  \n",
       "0  鲍勃每天早上都喜欢去公园跑步，而这个甜苹果是由我们的当地果园提供的。  \n",
       "1    J'aime me promener dans le parc.  \n",
       "2    打开电子邮件并检查最新邮件。若有来自客户的邮件，请发送感谢邮件。  "
      ]
     },
     "execution_count": 13,
     "metadata": {},
     "output_type": "execute_result"
    }
   ],
   "source": [
    "belle_02.head(3)"
   ]
  },
  {
   "cell_type": "code",
   "execution_count": 14,
   "id": "c564db7c-1cc7-4f22-8c33-be7a1346b146",
   "metadata": {
    "tags": []
   },
   "outputs": [],
   "source": [
    "belle = pd.concat([belle_01, belle_02], ignore_index=True)"
   ]
  },
  {
   "cell_type": "code",
   "execution_count": 15,
   "id": "383b1018-533e-431f-834b-ea189af83116",
   "metadata": {
    "tags": []
   },
   "outputs": [
    {
     "data": {
      "text/html": [
       "<div>\n",
       "<style scoped>\n",
       "    .dataframe tbody tr th:only-of-type {\n",
       "        vertical-align: middle;\n",
       "    }\n",
       "\n",
       "    .dataframe tbody tr th {\n",
       "        vertical-align: top;\n",
       "    }\n",
       "\n",
       "    .dataframe thead th {\n",
       "        text-align: right;\n",
       "    }\n",
       "</style>\n",
       "<table border=\"1\" class=\"dataframe\">\n",
       "  <thead>\n",
       "    <tr style=\"text-align: right;\">\n",
       "      <th></th>\n",
       "      <th>input</th>\n",
       "      <th>target</th>\n",
       "      <th>id</th>\n",
       "    </tr>\n",
       "  </thead>\n",
       "  <tbody>\n",
       "    <tr>\n",
       "      <th>0</th>\n",
       "      <td>用一句话描述地球为什么是独一无二的。\\n\\n</td>\n",
       "      <td>地球上有适宜生命存在的条件和多样化的生命形式。</td>\n",
       "      <td>NaN</td>\n",
       "    </tr>\n",
       "    <tr>\n",
       "      <th>1</th>\n",
       "      <td>给出一段对话，要求GPT模型使用合适的语气和回答方式继续对话。\\n对话：\\nA：你今天看起来...</td>\n",
       "      <td>A: 这太好了！你的新工作听起来很令人兴奋。你对接下来的日子有什么期望吗？\\nB: 是啊，我...</td>\n",
       "      <td>NaN</td>\n",
       "    </tr>\n",
       "    <tr>\n",
       "      <th>2</th>\n",
       "      <td>基于以下提示填写以下句子的空格。\\n提示：\\n- 提供多种现实世界的场景\\n- 空格应填写一...</td>\n",
       "      <td>多种形容词可填，以下是其中一些例子：\\n- 愉快的\\n- 惬意的\\n- 轻松的\\n- 安静的...</td>\n",
       "      <td>NaN</td>\n",
       "    </tr>\n",
       "    <tr>\n",
       "      <th>3</th>\n",
       "      <td>请生成一个新闻标题，描述一场正在发生的大型自然灾害。\\n\\n</td>\n",
       "      <td>\"强烈飓风肆虐，数百万人疏散！\"</td>\n",
       "      <td>NaN</td>\n",
       "    </tr>\n",
       "    <tr>\n",
       "      <th>4</th>\n",
       "      <td>为指定的词汇创建一个关于该词汇的简短解释。\\n“人工智能”</td>\n",
       "      <td>人工智能是一种科技，通过使用计算机程序和算法实现类似于人类智能的能力，例如学习、推理和自动化...</td>\n",
       "      <td>NaN</td>\n",
       "    </tr>\n",
       "  </tbody>\n",
       "</table>\n",
       "</div>"
      ],
      "text/plain": [
       "                                               input  \\\n",
       "0                             用一句话描述地球为什么是独一无二的。\\n\\n   \n",
       "1  给出一段对话，要求GPT模型使用合适的语气和回答方式继续对话。\\n对话：\\nA：你今天看起来...   \n",
       "2  基于以下提示填写以下句子的空格。\\n提示：\\n- 提供多种现实世界的场景\\n- 空格应填写一...   \n",
       "3                     请生成一个新闻标题，描述一场正在发生的大型自然灾害。\\n\\n   \n",
       "4                      为指定的词汇创建一个关于该词汇的简短解释。\\n“人工智能”   \n",
       "\n",
       "                                              target   id  \n",
       "0                            地球上有适宜生命存在的条件和多样化的生命形式。  NaN  \n",
       "1  A: 这太好了！你的新工作听起来很令人兴奋。你对接下来的日子有什么期望吗？\\nB: 是啊，我...  NaN  \n",
       "2  多种形容词可填，以下是其中一些例子：\\n- 愉快的\\n- 惬意的\\n- 轻松的\\n- 安静的...  NaN  \n",
       "3                                   \"强烈飓风肆虐，数百万人疏散！\"  NaN  \n",
       "4  人工智能是一种科技，通过使用计算机程序和算法实现类似于人类智能的能力，例如学习、推理和自动化...  NaN  "
      ]
     },
     "execution_count": 15,
     "metadata": {},
     "output_type": "execute_result"
    }
   ],
   "source": [
    "belle.head()"
   ]
  },
  {
   "cell_type": "code",
   "execution_count": 16,
   "id": "b083d631-11d2-4527-873a-783762aa0a41",
   "metadata": {
    "tags": []
   },
   "outputs": [],
   "source": [
    "belle.drop(columns=['id'], inplace=True)"
   ]
  },
  {
   "cell_type": "code",
   "execution_count": 17,
   "id": "9a082a03-33b7-4157-95ae-05d78016f1b5",
   "metadata": {
    "tags": []
   },
   "outputs": [
    {
     "data": {
      "text/html": [
       "<div>\n",
       "<style scoped>\n",
       "    .dataframe tbody tr th:only-of-type {\n",
       "        vertical-align: middle;\n",
       "    }\n",
       "\n",
       "    .dataframe tbody tr th {\n",
       "        vertical-align: top;\n",
       "    }\n",
       "\n",
       "    .dataframe thead th {\n",
       "        text-align: right;\n",
       "    }\n",
       "</style>\n",
       "<table border=\"1\" class=\"dataframe\">\n",
       "  <thead>\n",
       "    <tr style=\"text-align: right;\">\n",
       "      <th></th>\n",
       "      <th>instruction</th>\n",
       "      <th>output</th>\n",
       "    </tr>\n",
       "  </thead>\n",
       "  <tbody>\n",
       "    <tr>\n",
       "      <th>0</th>\n",
       "      <td>用一句话描述地球为什么是独一无二的。\\n\\n</td>\n",
       "      <td>地球上有适宜生命存在的条件和多样化的生命形式。</td>\n",
       "    </tr>\n",
       "    <tr>\n",
       "      <th>1</th>\n",
       "      <td>给出一段对话，要求GPT模型使用合适的语气和回答方式继续对话。\\n对话：\\nA：你今天看起来...</td>\n",
       "      <td>A: 这太好了！你的新工作听起来很令人兴奋。你对接下来的日子有什么期望吗？\\nB: 是啊，我...</td>\n",
       "    </tr>\n",
       "    <tr>\n",
       "      <th>2</th>\n",
       "      <td>基于以下提示填写以下句子的空格。\\n提示：\\n- 提供多种现实世界的场景\\n- 空格应填写一...</td>\n",
       "      <td>多种形容词可填，以下是其中一些例子：\\n- 愉快的\\n- 惬意的\\n- 轻松的\\n- 安静的...</td>\n",
       "    </tr>\n",
       "  </tbody>\n",
       "</table>\n",
       "</div>"
      ],
      "text/plain": [
       "                                         instruction  \\\n",
       "0                             用一句话描述地球为什么是独一无二的。\\n\\n   \n",
       "1  给出一段对话，要求GPT模型使用合适的语气和回答方式继续对话。\\n对话：\\nA：你今天看起来...   \n",
       "2  基于以下提示填写以下句子的空格。\\n提示：\\n- 提供多种现实世界的场景\\n- 空格应填写一...   \n",
       "\n",
       "                                              output  \n",
       "0                            地球上有适宜生命存在的条件和多样化的生命形式。  \n",
       "1  A: 这太好了！你的新工作听起来很令人兴奋。你对接下来的日子有什么期望吗？\\nB: 是啊，我...  \n",
       "2  多种形容词可填，以下是其中一些例子：\\n- 愉快的\\n- 惬意的\\n- 轻松的\\n- 安静的...  "
      ]
     },
     "execution_count": 17,
     "metadata": {},
     "output_type": "execute_result"
    }
   ],
   "source": [
    "belle = belle.rename(columns={\"input\": \"instruction\", \"target\": \"output\"})\n",
    "belle.head(3)"
   ]
  },
  {
   "cell_type": "code",
   "execution_count": 18,
   "id": "90ce1e3d-e44f-41ea-93dc-4c7c71f65d73",
   "metadata": {
    "tags": []
   },
   "outputs": [],
   "source": [
    "total_df = pd.concat([belle, patent_df])"
   ]
  },
  {
   "cell_type": "code",
   "execution_count": 20,
   "id": "5be86012-98dd-4ada-a5ef-642c1d65c18f",
   "metadata": {
    "tags": []
   },
   "outputs": [
    {
     "data": {
      "text/plain": [
       "2230500"
      ]
     },
     "execution_count": 20,
     "metadata": {},
     "output_type": "execute_result"
    }
   ],
   "source": [
    "len(total_df)"
   ]
  },
  {
   "cell_type": "code",
   "execution_count": 21,
   "id": "930be607-5661-4397-9b0e-44d67c2d9b27",
   "metadata": {
    "tags": []
   },
   "outputs": [
    {
     "data": {
      "text/html": [
       "<div>\n",
       "<style scoped>\n",
       "    .dataframe tbody tr th:only-of-type {\n",
       "        vertical-align: middle;\n",
       "    }\n",
       "\n",
       "    .dataframe tbody tr th {\n",
       "        vertical-align: top;\n",
       "    }\n",
       "\n",
       "    .dataframe thead th {\n",
       "        text-align: right;\n",
       "    }\n",
       "</style>\n",
       "<table border=\"1\" class=\"dataframe\">\n",
       "  <thead>\n",
       "    <tr style=\"text-align: right;\">\n",
       "      <th></th>\n",
       "      <th>instruction</th>\n",
       "      <th>output</th>\n",
       "    </tr>\n",
       "  </thead>\n",
       "  <tbody>\n",
       "    <tr>\n",
       "      <th>0</th>\n",
       "      <td>用一句话描述地球为什么是独一无二的。\\n\\n</td>\n",
       "      <td>地球上有适宜生命存在的条件和多样化的生命形式。</td>\n",
       "    </tr>\n",
       "    <tr>\n",
       "      <th>1</th>\n",
       "      <td>给出一段对话，要求GPT模型使用合适的语气和回答方式继续对话。\\n对话：\\nA：你今天看起来...</td>\n",
       "      <td>A: 这太好了！你的新工作听起来很令人兴奋。你对接下来的日子有什么期望吗？\\nB: 是啊，我...</td>\n",
       "    </tr>\n",
       "    <tr>\n",
       "      <th>2</th>\n",
       "      <td>基于以下提示填写以下句子的空格。\\n提示：\\n- 提供多种现实世界的场景\\n- 空格应填写一...</td>\n",
       "      <td>多种形容词可填，以下是其中一些例子：\\n- 愉快的\\n- 惬意的\\n- 轻松的\\n- 安静的...</td>\n",
       "    </tr>\n",
       "    <tr>\n",
       "      <th>3</th>\n",
       "      <td>请生成一个新闻标题，描述一场正在发生的大型自然灾害。\\n\\n</td>\n",
       "      <td>\"强烈飓风肆虐，数百万人疏散！\"</td>\n",
       "    </tr>\n",
       "    <tr>\n",
       "      <th>4</th>\n",
       "      <td>为指定的词汇创建一个关于该词汇的简短解释。\\n“人工智能”</td>\n",
       "      <td>人工智能是一种科技，通过使用计算机程序和算法实现类似于人类智能的能力，例如学习、推理和自动化...</td>\n",
       "    </tr>\n",
       "  </tbody>\n",
       "</table>\n",
       "</div>"
      ],
      "text/plain": [
       "                                         instruction  \\\n",
       "0                             用一句话描述地球为什么是独一无二的。\\n\\n   \n",
       "1  给出一段对话，要求GPT模型使用合适的语气和回答方式继续对话。\\n对话：\\nA：你今天看起来...   \n",
       "2  基于以下提示填写以下句子的空格。\\n提示：\\n- 提供多种现实世界的场景\\n- 空格应填写一...   \n",
       "3                     请生成一个新闻标题，描述一场正在发生的大型自然灾害。\\n\\n   \n",
       "4                      为指定的词汇创建一个关于该词汇的简短解释。\\n“人工智能”   \n",
       "\n",
       "                                              output  \n",
       "0                            地球上有适宜生命存在的条件和多样化的生命形式。  \n",
       "1  A: 这太好了！你的新工作听起来很令人兴奋。你对接下来的日子有什么期望吗？\\nB: 是啊，我...  \n",
       "2  多种形容词可填，以下是其中一些例子：\\n- 愉快的\\n- 惬意的\\n- 轻松的\\n- 安静的...  \n",
       "3                                   \"强烈飓风肆虐，数百万人疏散！\"  \n",
       "4  人工智能是一种科技，通过使用计算机程序和算法实现类似于人类智能的能力，例如学习、推理和自动化...  "
      ]
     },
     "execution_count": 21,
     "metadata": {},
     "output_type": "execute_result"
    }
   ],
   "source": [
    "total_df.head(5)"
   ]
  },
  {
   "cell_type": "code",
   "execution_count": 22,
   "id": "9ec36f7f-b3f3-4f6b-b55b-7d8b3465bf1a",
   "metadata": {
    "tags": []
   },
   "outputs": [],
   "source": [
    "total_df.to_json('total_instructions.json', orient='records', force_ascii=False)"
   ]
  },
  {
   "cell_type": "code",
   "execution_count": null,
   "id": "26398058-0a10-455f-b06e-9b7181508afd",
   "metadata": {
    "tags": []
   },
   "outputs": [
    {
     "name": "stdout",
     "output_type": "stream",
     "text": [
      "Downloading and preparing dataset json/default to /root/.cache/huggingface/datasets/json/default-6f2f6f49761714dd/0.0.0/0f7e3662623656454fcd2b650f34e886a7db4b9104504885bd462096cc7a9f51...\n"
     ]
    },
    {
     "data": {
      "application/json": {
       "ascii": false,
       "bar_format": null,
       "colour": null,
       "elapsed": 0.009498357772827148,
       "initial": 0,
       "n": 0,
       "ncols": null,
       "nrows": null,
       "postfix": null,
       "prefix": "Downloading data files",
       "rate": null,
       "total": 1,
       "unit": "it",
       "unit_divisor": 1000,
       "unit_scale": false
      },
      "application/vnd.jupyter.widget-view+json": {
       "model_id": "66e0d22a5c92466782cd98ddf06fc054",
       "version_major": 2,
       "version_minor": 0
      },
      "text/plain": [
       "Downloading data files:   0%|          | 0/1 [00:00<?, ?it/s]"
      ]
     },
     "metadata": {},
     "output_type": "display_data"
    },
    {
     "data": {
      "application/json": {
       "ascii": false,
       "bar_format": null,
       "colour": null,
       "elapsed": 0.008556127548217773,
       "initial": 0,
       "n": 0,
       "ncols": null,
       "nrows": null,
       "postfix": null,
       "prefix": "Extracting data files",
       "rate": null,
       "total": 1,
       "unit": "it",
       "unit_divisor": 1000,
       "unit_scale": false
      },
      "application/vnd.jupyter.widget-view+json": {
       "model_id": "24fbcea0786c4917b24f7437dbb4b065",
       "version_major": 2,
       "version_minor": 0
      },
      "text/plain": [
       "Extracting data files:   0%|          | 0/1 [00:00<?, ?it/s]"
      ]
     },
     "metadata": {},
     "output_type": "display_data"
    },
    {
     "data": {
      "application/json": {
       "ascii": false,
       "bar_format": null,
       "colour": null,
       "elapsed": 0.009698629379272461,
       "initial": 0,
       "n": 0,
       "ncols": null,
       "nrows": null,
       "postfix": null,
       "prefix": "Generating train split",
       "rate": null,
       "total": 0,
       "unit": " examples",
       "unit_divisor": 1000,
       "unit_scale": false
      },
      "application/vnd.jupyter.widget-view+json": {
       "model_id": "2b8b94a25a5c4827be000ed8c7272b48",
       "version_major": 2,
       "version_minor": 0
      },
      "text/plain": [
       "Generating train split: 0 examples [00:00, ? examples/s]"
      ]
     },
     "metadata": {},
     "output_type": "display_data"
    }
   ],
   "source": [
    "from datasets import load_dataset\n",
    "data = load_dataset(\"json\", data_files='total_instructions.json')"
   ]
  },
  {
   "cell_type": "code",
   "execution_count": 27,
   "id": "2b503fbf-e015-43e0-b459-51b11641dae8",
   "metadata": {
    "tags": []
   },
   "outputs": [
    {
     "data": {
      "image/png": "[encoded data removed]",
      "text/plain": [
       "<Figure size 432x288 with 1 Axes>"
      ]
     },
     "metadata": {
      "needs_background": "light"
     },
     "output_type": "display_data"
    }
   ],
   "source": [
    "import numpy as np\n",
    "import matplotlib.pyplot as plt\n",
    "\n",
    "def softmax(x, temperature=1.0):\n",
    "    x = np.array(x) / temperature\n",
    "    exp_x = np.exp(x)\n",
    "    return exp_x / np.sum(exp_x)\n",
    "\n",
    "x = [1, 2, 3, 4, 5]\n",
    "temperatures = [0.1, 0.25, 0.5, 0.8, 2]\n",
    "\n",
    "plt.figure()\n",
    "for temp in temperatures:\n",
    "    y = softmax(x, temperature=temp)\n",
    "    plt.plot(x, y, label=f'Temperature = {temp}')\n",
    "\n",
    "plt.xlabel('Values')\n",
    "plt.ylabel('Softmax Probabilities')\n",
    "plt.title('Softmax Curves with Different Temperatures')\n",
    "plt.legend()\n",
    "plt.show()\n"
   ]
  },
  {
   "cell_type": "code",
   "execution_count": null,
   "id": "99414155-8b08-4d81-b24d-e0bb3cb4ec7f",
   "metadata": {},
   "outputs": [],
   "source": []
  }
 ],
 "metadata": {
  "kernelspec": {
   "display_name": "Python 3 (ipykernel)",
   "language": "python",
   "name": "python3"
  },
  "language_info": {
   "codemirror_mode": {
    "name": "ipython",
    "version": 3
   },
   "file_extension": ".py",
   "mimetype": "text/x-python",
   "name": "python",
   "nbconvert_exporter": "python",
   "pygments_lexer": "ipython3",
   "version": "3.7.13"
  },
  "vscode": {
   "interpreter": {
    "hash": "d4d1e4263499bec80672ea0156c357c1ee493ec2b1c70f0acce89fc37c4a6abe"
   }
  }
 },
 "nbformat": 4,
 "nbformat_minor": 5
}
