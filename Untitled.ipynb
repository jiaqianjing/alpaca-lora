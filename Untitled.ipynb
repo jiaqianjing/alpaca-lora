{
 "cells": [
  {
   "cell_type": "markdown",
   "id": "1727a01a-28ac-45a6-a8fd-21b4a899a3b0",
   "metadata": {},
   "source": [
    "## Merge all files"
   ]
  },
  {
   "cell_type": "code",
   "execution_count": 1,
   "id": "c0b393cb-82bc-436f-b34c-aa8b2fab3837",
   "metadata": {},
   "outputs": [],
   "source": [
    "# import pandas as pd\n",
    "# data_1 = pd.read_json('./zh_alpaca_from_openai.json')\n",
    "# data_2 = pd.read_json('./zh_alpaca_from_translate.json')\n",
    "# data_3 = pd.concat([data_1, data_2])\n",
    "# data_3.to_json('./zh_alpaca_total.json', orient='records', force_ascii=False)"
   ]
  },
  {
   "cell_type": "code",
   "execution_count": 62,
   "id": "528b504e-6add-48a2-a8a0-12546fce8575",
   "metadata": {
    "tags": []
   },
   "outputs": [],
   "source": [
    "import pandas as pd"
   ]
  },
  {
   "cell_type": "code",
   "execution_count": 63,
   "id": "9fb368f2-3267-467f-9938-9623ed2b81e7",
   "metadata": {
    "tags": []
   },
   "outputs": [],
   "source": [
    "patent_df = pd.read_json('./patent_instructions.json')"
   ]
  },
  {
   "cell_type": "code",
   "execution_count": 64,
   "id": "8d40ed7a-76b0-4950-be00-27c30628a1c0",
   "metadata": {
    "tags": []
   },
   "outputs": [
    {
     "data": {
      "text/html": [
       "<div>\n",
       "<style scoped>\n",
       "    .dataframe tbody tr th:only-of-type {\n",
       "        vertical-align: middle;\n",
       "    }\n",
       "\n",
       "    .dataframe tbody tr th {\n",
       "        vertical-align: top;\n",
       "    }\n",
       "\n",
       "    .dataframe thead th {\n",
       "        text-align: right;\n",
       "    }\n",
       "</style>\n",
       "<table border=\"1\" class=\"dataframe\">\n",
       "  <thead>\n",
       "    <tr style=\"text-align: right;\">\n",
       "      <th></th>\n",
       "      <th>instruction</th>\n",
       "      <th>output</th>\n",
       "    </tr>\n",
       "  </thead>\n",
       "  <tbody>\n",
       "    <tr>\n",
       "      <th>0</th>\n",
       "      <td>一种马尾千金草的种植方法</td>\n",
       "      <td>本发明涉及中药种植技术领域，尤其是一种马尾千金草的种植方法，该种植方法包括以下步骤：S1、选...</td>\n",
       "    </tr>\n",
       "    <tr>\n",
       "      <th>1</th>\n",
       "      <td>一种三箱加药系统</td>\n",
       "      <td>本发明公开了一种三箱加药系统，包括底板和滚轮，所述底板的底部设置有滚轮，所述底板的顶端设置有...</td>\n",
       "    </tr>\n",
       "    <tr>\n",
       "      <th>2</th>\n",
       "      <td>一种多功能结账装置</td>\n",
       "      <td>本发明提供了一种多功能结账装置，包括机体、称重装置、显示屏、包装袋、打包装置、传输带以及微处...</td>\n",
       "    </tr>\n",
       "    <tr>\n",
       "      <th>3</th>\n",
       "      <td>一种无卤阻燃PVC材料</td>\n",
       "      <td>本发明涉及一种无卤阻燃PVC材料，按照重量份，由以下成分组成：PVC树脂100份，增塑剂50...</td>\n",
       "    </tr>\n",
       "    <tr>\n",
       "      <th>4</th>\n",
       "      <td>一种复合环氧树脂材料</td>\n",
       "      <td>本发明涉及一种复合环氧树脂材料，其特征在于，以重量份计算，包括以下成分：环氧树脂100份、热...</td>\n",
       "    </tr>\n",
       "  </tbody>\n",
       "</table>\n",
       "</div>"
      ],
      "text/plain": [
       "    instruction                                             output\n",
       "0  一种马尾千金草的种植方法  本发明涉及中药种植技术领域，尤其是一种马尾千金草的种植方法，该种植方法包括以下步骤：S1、选...\n",
       "1      一种三箱加药系统  本发明公开了一种三箱加药系统，包括底板和滚轮，所述底板的底部设置有滚轮，所述底板的顶端设置有...\n",
       "2     一种多功能结账装置  本发明提供了一种多功能结账装置，包括机体、称重装置、显示屏、包装袋、打包装置、传输带以及微处...\n",
       "3   一种无卤阻燃PVC材料  本发明涉及一种无卤阻燃PVC材料，按照重量份，由以下成分组成：PVC树脂100份，增塑剂50...\n",
       "4    一种复合环氧树脂材料  本发明涉及一种复合环氧树脂材料，其特征在于，以重量份计算，包括以下成分：环氧树脂100份、热..."
      ]
     },
     "execution_count": 64,
     "metadata": {},
     "output_type": "execute_result"
    }
   ],
   "source": [
    "patent_df.drop(columns=['input'], inplace=True)\n",
    "patent_df.head(5)"
   ]
  },
  {
   "cell_type": "code",
   "execution_count": 65,
   "id": "adfaaf09-d4e7-43a0-8b6c-1475e0cf2b53",
   "metadata": {
    "tags": []
   },
   "outputs": [
    {
     "data": {
      "text/plain": [
       "687186"
      ]
     },
     "execution_count": 65,
     "metadata": {},
     "output_type": "execute_result"
    }
   ],
   "source": [
    "len(patent_df)"
   ]
  },
  {
   "cell_type": "markdown",
   "id": "061e6b57-bd3c-4e33-90e0-d93805d892d2",
   "metadata": {},
   "source": [
    "# Belle data"
   ]
  },
  {
   "cell_type": "code",
   "execution_count": 44,
   "id": "256327b9-160d-416f-8818-f8252821d270",
   "metadata": {
    "tags": []
   },
   "outputs": [],
   "source": [
    "import pandas as pd\n",
    "import json\n",
    "\n",
    "def read_belle_json2df(file):\n",
    "    temp = []\n",
    "    with open(file, 'r') as f:\n",
    "        for r in f.readlines():\n",
    "            temp.append(json.loads(r))\n",
    "\n",
    "    # 将数据转换为 DataFrame\n",
    "    df = pd.DataFrame(temp)\n",
    "    return df"
   ]
  },
  {
   "cell_type": "markdown",
   "id": "89c6efa8-60e3-455a-840e-afc5bd86dcae",
   "metadata": {},
   "source": [
    "## Belle 0.5 M"
   ]
  },
  {
   "cell_type": "code",
   "execution_count": 45,
   "id": "2a04f8a5-d854-41bd-9554-e4e8d71b778b",
   "metadata": {
    "tags": []
   },
   "outputs": [],
   "source": [
    "belle_01 = read_belle_json2df('./Belle.train.json')\n",
    "belle_01 = belle_01.rename(columns={\"input\": \"instruction\", \"target\": \"output\"})"
   ]
  },
  {
   "cell_type": "code",
   "execution_count": 46,
   "id": "444528b7-e352-46e4-8811-52317dc7d24f",
   "metadata": {
    "tags": []
   },
   "outputs": [
    {
     "data": {
      "text/plain": [
       "543314"
      ]
     },
     "execution_count": 46,
     "metadata": {},
     "output_type": "execute_result"
    }
   ],
   "source": [
    "len(belle_01)"
   ]
  },
  {
   "cell_type": "code",
   "execution_count": null,
   "id": "ea305c9a-34ce-4a0d-8710-a90e0ff259ef",
   "metadata": {
    "tags": []
   },
   "outputs": [],
   "source": []
  },
  {
   "cell_type": "code",
   "execution_count": 47,
   "id": "f334c21c-33c2-4116-a8a9-b11640c1df73",
   "metadata": {
    "tags": []
   },
   "outputs": [],
   "source": [
    "belle_01_new = read_belle_json2df('./Belle_open_source_0.5M.json')\n",
    "belle_01_new = belle_01_new.drop(columns=['input'])"
   ]
  },
  {
   "cell_type": "code",
   "execution_count": 31,
   "id": "4bb1601c-d0cb-490c-8a76-135b2485a9bd",
   "metadata": {
    "tags": []
   },
   "outputs": [
    {
     "data": {
      "text/plain": [
       "519468"
      ]
     },
     "execution_count": 31,
     "metadata": {},
     "output_type": "execute_result"
    }
   ],
   "source": [
    "len(belle_01_new)"
   ]
  },
  {
   "cell_type": "code",
   "execution_count": 20,
   "id": "25cc5984-d8b2-4869-b4f4-0cc2b26d5fd4",
   "metadata": {
    "tags": []
   },
   "outputs": [],
   "source": []
  },
  {
   "cell_type": "markdown",
   "id": "27bba327-33cc-4f09-bb6a-8d808ddac2e5",
   "metadata": {},
   "source": [
    "## Belle 1M"
   ]
  },
  {
   "cell_type": "code",
   "execution_count": 32,
   "id": "bc669dca-7c7d-4e28-90b0-d5e24afa2153",
   "metadata": {
    "tags": []
   },
   "outputs": [],
   "source": [
    "belle_02 = read_belle_json2df('./belle_open_source_1M.train.json')\n",
    "belle_02 = belle_02.drop(columns=['id']).rename(columns={\"input\": \"instruction\", \"target\": \"output\"})"
   ]
  },
  {
   "cell_type": "code",
   "execution_count": 33,
   "id": "6f26365e-67ff-408c-b6f1-53a2797a0ce6",
   "metadata": {
    "tags": []
   },
   "outputs": [
    {
     "data": {
      "text/plain": [
       "1000000"
      ]
     },
     "execution_count": 33,
     "metadata": {},
     "output_type": "execute_result"
    }
   ],
   "source": [
    "len(belle_02)"
   ]
  },
  {
   "cell_type": "code",
   "execution_count": 22,
   "id": "e6560b68-41e4-4e51-9a3a-2fc479d5e556",
   "metadata": {
    "tags": []
   },
   "outputs": [],
   "source": []
  },
  {
   "cell_type": "code",
   "execution_count": 34,
   "id": "7e779f4c-79a4-48cf-ad99-1bf8ab19ffa1",
   "metadata": {
    "tags": []
   },
   "outputs": [],
   "source": [
    "belle_02_new = read_belle_json2df('./Belle_open_source_1M.json')\n",
    "belle_02_new = belle_02_new.drop(columns=['input'])"
   ]
  },
  {
   "cell_type": "code",
   "execution_count": 35,
   "id": "9c6e3ee3-1511-4a50-a53a-ca5c9ab2050d",
   "metadata": {
    "tags": []
   },
   "outputs": [
    {
     "data": {
      "text/plain": [
       "917577"
      ]
     },
     "execution_count": 35,
     "metadata": {},
     "output_type": "execute_result"
    }
   ],
   "source": [
    "len(belle_02_new)"
   ]
  },
  {
   "cell_type": "code",
   "execution_count": 26,
   "id": "21fd6f4e-21d2-482a-b0d8-0ff41f15d316",
   "metadata": {
    "tags": []
   },
   "outputs": [],
   "source": []
  },
  {
   "cell_type": "markdown",
   "id": "f5c1d7c4-94a8-492a-b9f8-29b33a2eb6ae",
   "metadata": {},
   "source": [
    "## Merge all"
   ]
  },
  {
   "cell_type": "code",
   "execution_count": 36,
   "id": "c564db7c-1cc7-4f22-8c33-be7a1346b146",
   "metadata": {
    "tags": []
   },
   "outputs": [],
   "source": [
    "belle = pd.concat([belle_01, belle_02, belle_01_new, belle_02_new], ignore_index=True)"
   ]
  },
  {
   "cell_type": "code",
   "execution_count": 41,
   "id": "383b1018-533e-431f-834b-ea189af83116",
   "metadata": {
    "tags": []
   },
   "outputs": [
    {
     "data": {
      "text/html": [
       "<div>\n",
       "<style scoped>\n",
       "    .dataframe tbody tr th:only-of-type {\n",
       "        vertical-align: middle;\n",
       "    }\n",
       "\n",
       "    .dataframe tbody tr th {\n",
       "        vertical-align: top;\n",
       "    }\n",
       "\n",
       "    .dataframe thead th {\n",
       "        text-align: right;\n",
       "    }\n",
       "</style>\n",
       "<table border=\"1\" class=\"dataframe\">\n",
       "  <thead>\n",
       "    <tr style=\"text-align: right;\">\n",
       "      <th></th>\n",
       "      <th>instruction</th>\n",
       "      <th>output</th>\n",
       "    </tr>\n",
       "  </thead>\n",
       "  <tbody>\n",
       "    <tr>\n",
       "      <th>2865032</th>\n",
       "      <td>给定一个情境，写一封邮件或信件。\\n您的朋友将于本周末过生日，您不能亲自出席聚会。写一封邮件...</td>\n",
       "      <td>尊敬的XXX，\\n祝贺你生日快乐！虽然我不能亲自出席你的庆生聚会，但我希望你度过了一个愉快的...</td>\n",
       "    </tr>\n",
       "    <tr>\n",
       "      <th>2841569</th>\n",
       "      <td>根据给定的主题分类文本数据。\\n提供一批电子邮件数据，并要求将每封邮件分类为垃圾邮件或正常邮件。</td>\n",
       "      <td>可以使用机器学习算法，如朴素贝叶斯分类器或支持向量机等，对电子邮件进行文本分类。需要对数据进...</td>\n",
       "    </tr>\n",
       "    <tr>\n",
       "      <th>1361937</th>\n",
       "      <td>根据给定的英语文章，为文章中的每个单词提供中文翻译。\\n\\n\\n以下是一篇由5个句子组成的英...</td>\n",
       "      <td>在开始制作披萨之前，您需要收集所有必要的配料，包括酵母、面粉、水、盐、油和番茄酱。在一个大碗...</td>\n",
       "    </tr>\n",
       "    <tr>\n",
       "      <th>1685392</th>\n",
       "      <td>写一个文本编辑器插件，实现针对常见拼写错误的自动更正功能。\\n一个现有的文本编辑器和错误的单...</td>\n",
       "      <td>\\n1. 遍历文本编辑器中的每个单词。\\n2. 对于每个单词，检查它是否在错误的单词列表中。...</td>\n",
       "    </tr>\n",
       "    <tr>\n",
       "      <th>2073029</th>\n",
       "      <td>将提供的文本翻译成西班牙语，并展示原始文本和翻译结果。\\n今天心情很好。</td>\n",
       "      <td>原始文本：今天心情很好。\\n翻译结果：Hoy me siento muy bien.</td>\n",
       "    </tr>\n",
       "  </tbody>\n",
       "</table>\n",
       "</div>"
      ],
      "text/plain": [
       "                                               instruction  \\\n",
       "2865032  给定一个情境，写一封邮件或信件。\\n您的朋友将于本周末过生日，您不能亲自出席聚会。写一封邮件...   \n",
       "2841569   根据给定的主题分类文本数据。\\n提供一批电子邮件数据，并要求将每封邮件分类为垃圾邮件或正常邮件。   \n",
       "1361937  根据给定的英语文章，为文章中的每个单词提供中文翻译。\\n\\n\\n以下是一篇由5个句子组成的英...   \n",
       "1685392  写一个文本编辑器插件，实现针对常见拼写错误的自动更正功能。\\n一个现有的文本编辑器和错误的单...   \n",
       "2073029               将提供的文本翻译成西班牙语，并展示原始文本和翻译结果。\\n今天心情很好。   \n",
       "\n",
       "                                                    output  \n",
       "2865032  尊敬的XXX，\\n祝贺你生日快乐！虽然我不能亲自出席你的庆生聚会，但我希望你度过了一个愉快的...  \n",
       "2841569  可以使用机器学习算法，如朴素贝叶斯分类器或支持向量机等，对电子邮件进行文本分类。需要对数据进...  \n",
       "1361937  在开始制作披萨之前，您需要收集所有必要的配料，包括酵母、面粉、水、盐、油和番茄酱。在一个大碗...  \n",
       "1685392  \\n1. 遍历文本编辑器中的每个单词。\\n2. 对于每个单词，检查它是否在错误的单词列表中。...  \n",
       "2073029         原始文本：今天心情很好。\\n翻译结果：Hoy me siento muy bien.  "
      ]
     },
     "execution_count": 41,
     "metadata": {},
     "output_type": "execute_result"
    }
   ],
   "source": [
    "belle.sample(5)"
   ]
  },
  {
   "cell_type": "code",
   "execution_count": 38,
   "id": "99414155-8b08-4d81-b24d-e0bb3cb4ec7f",
   "metadata": {
    "tags": []
   },
   "outputs": [
    {
     "data": {
      "text/plain": [
       "2980359"
      ]
     },
     "execution_count": 38,
     "metadata": {},
     "output_type": "execute_result"
    }
   ],
   "source": [
    "len(belle)"
   ]
  },
  {
   "cell_type": "code",
   "execution_count": 43,
   "id": "07c64101-d22e-453c-810e-c6bb2b33a000",
   "metadata": {
    "tags": []
   },
   "outputs": [],
   "source": [
    "belle.sample(4000).to_json('lite_instructions.json', orient='records')"
   ]
  },
  {
   "cell_type": "code",
   "execution_count": null,
   "id": "1b41bf78-01cb-4e0d-9e7c-426022fede14",
   "metadata": {},
   "outputs": [],
   "source": []
  },
  {
   "cell_type": "markdown",
   "id": "b58001f4-fb4f-4258-ac41-c5832443e62d",
   "metadata": {},
   "source": [
    "## multiturn_chat_0.8M\n",
    "# 多轮对话"
   ]
  },
  {
   "cell_type": "code",
   "execution_count": 49,
   "id": "0408ee42-3e76-4bb0-a552-615db5a7c4f6",
   "metadata": {
    "tags": []
   },
   "outputs": [],
   "source": [
    "belle_multi_chat = read_belle_json2df('./multiturn_chat_0.8M.json')\n",
    "belle_multi_chat = belle_multi_chat.drop(columns=['input'])"
   ]
  },
  {
   "cell_type": "code",
   "execution_count": 51,
   "id": "26597f72-507b-496c-b552-aa36973ff5ef",
   "metadata": {
    "tags": []
   },
   "outputs": [
    {
     "data": {
      "text/html": [
       "<div>\n",
       "<style scoped>\n",
       "    .dataframe tbody tr th:only-of-type {\n",
       "        vertical-align: middle;\n",
       "    }\n",
       "\n",
       "    .dataframe tbody tr th {\n",
       "        vertical-align: top;\n",
       "    }\n",
       "\n",
       "    .dataframe thead th {\n",
       "        text-align: right;\n",
       "    }\n",
       "</style>\n",
       "<table border=\"1\" class=\"dataframe\">\n",
       "  <thead>\n",
       "    <tr style=\"text-align: right;\">\n",
       "      <th></th>\n",
       "      <th>instruction</th>\n",
       "      <th>output</th>\n",
       "    </tr>\n",
       "  </thead>\n",
       "  <tbody>\n",
       "    <tr>\n",
       "      <th>0</th>\n",
       "      <td>Human:你好，你能帮我解答一个问题吗？\\nAssistant: 当然，请问有什么问题？\\...</td>\n",
       "      <td>人工智能面临的挑战包括数据隐私、安全和道德方面的问题，以及影响就业机会的自动化等问题。此外...</td>\n",
       "    </tr>\n",
       "    <tr>\n",
       "      <th>1</th>\n",
       "      <td>Human:帮我生成一句有关夏天的英文名言。\\nAssistant: \"Summertime...</td>\n",
       "      <td>当然可以。你对哪种类型的电影感兴趣？恐怖、浪漫、喜剧、动作或其他类型？</td>\n",
       "    </tr>\n",
       "    <tr>\n",
       "      <th>2</th>\n",
       "      <td>Human: 你好，能告诉我今天天气怎么样吗？ \\nAssistant: 当然可以，请问您所...</td>\n",
       "      <td>不客气，有其他需要帮忙的地方可以继续问我。</td>\n",
       "    </tr>\n",
       "    <tr>\n",
       "      <th>3</th>\n",
       "      <td>Human:打开一个随机数生成器，生成一个1到100之间的数。\\nAssistant:好的，...</td>\n",
       "      <td>有几种方法可以缓解焦虑：您可以通过深呼吸或冥想来放松身心，或者去体育馆运动来释放压力。同时，...</td>\n",
       "    </tr>\n",
       "    <tr>\n",
       "      <th>4</th>\n",
       "      <td>Human:请写一篇关于疫苗接种的科普文章。\\nAssistant:好的，以下是关于疫苗接种...</td>\n",
       "      <td>疫苗接种的优势是能够预防疾病并且提升人体自身的免疫力，疫苗接种能够为整个社区创造抗疫壁垒，预...</td>\n",
       "    </tr>\n",
       "  </tbody>\n",
       "</table>\n",
       "</div>"
      ],
      "text/plain": [
       "                                         instruction  \\\n",
       "0  Human:你好，你能帮我解答一个问题吗？\\nAssistant: 当然，请问有什么问题？\\...   \n",
       "1  Human:帮我生成一句有关夏天的英文名言。\\nAssistant: \"Summertime...   \n",
       "2  Human: 你好，能告诉我今天天气怎么样吗？ \\nAssistant: 当然可以，请问您所...   \n",
       "3  Human:打开一个随机数生成器，生成一个1到100之间的数。\\nAssistant:好的，...   \n",
       "4  Human:请写一篇关于疫苗接种的科普文章。\\nAssistant:好的，以下是关于疫苗接种...   \n",
       "\n",
       "                                              output  \n",
       "0   人工智能面临的挑战包括数据隐私、安全和道德方面的问题，以及影响就业机会的自动化等问题。此外...  \n",
       "1                当然可以。你对哪种类型的电影感兴趣？恐怖、浪漫、喜剧、动作或其他类型？  \n",
       "2                              不客气，有其他需要帮忙的地方可以继续问我。  \n",
       "3  有几种方法可以缓解焦虑：您可以通过深呼吸或冥想来放松身心，或者去体育馆运动来释放压力。同时，...  \n",
       "4  疫苗接种的优势是能够预防疾病并且提升人体自身的免疫力，疫苗接种能够为整个社区创造抗疫壁垒，预...  "
      ]
     },
     "execution_count": 51,
     "metadata": {},
     "output_type": "execute_result"
    }
   ],
   "source": [
    "belle_multi_chat.head(5)"
   ]
  },
  {
   "cell_type": "code",
   "execution_count": 57,
   "id": "35d591e1-ed41-4658-9245-3d82ca1c24fc",
   "metadata": {
    "tags": []
   },
   "outputs": [
    {
     "data": {
      "text/plain": [
       "0         User:你好，你能帮我解答一个问题吗？\\nAI: 当然，请问有什么问题？\\nUser:我想...\n",
       "1         User:帮我生成一句有关夏天的英文名言。\\nAI: \"Summertime is alwa...\n",
       "2         User: 你好，能告诉我今天天气怎么样吗？ \\nAI: 当然可以，请问您所在的城市是哪里？...\n",
       "3         User:打开一个随机数生成器，生成一个1到100之间的数。\\nAI:好的，已经为您生成了一...\n",
       "4         User:请写一篇关于疫苗接种的科普文章。\\nAI:好的，以下是关于疫苗接种的科普文章。\\n...\n",
       "                                ...                        \n",
       "831031    User: 生成一个关于狗的笑话吧。\\nAI: 好的，为您生成一个笑话：为什么狗总是喜欢把自...\n",
       "831032    User:写一篇关于人工智能的未来发展的文章。\\nAI:好的，请问您需要文章的长度及样式吗？...\n",
       "831033    User: 打开一个生成任务。\\nAI: 好的，生成任务已开启，请输入生成任务的主题。\\nU...\n",
       "831034    User: 生成一个简短的诗歌吧！\\nAI: 行吧！\\n枫叶红了秋风起，\\n霜降寒气渐渐生。...\n",
       "831035    User:写一篇关于人工智能优缺点的文章。\\nAI:人工智能被广泛应用于医疗保健、区块链、金...\n",
       "Name: instruction, Length: 831036, dtype: object"
      ]
     },
     "execution_count": 57,
     "metadata": {},
     "output_type": "execute_result"
    }
   ],
   "source": [
    "# modify role_name you want\n",
    "belle_multi_chat['instruction'].map(lambda x: x.replace('Human', 'User').replace('Assistant', 'AI'))"
   ]
  },
  {
   "cell_type": "code",
   "execution_count": null,
   "id": "41d97faf-834a-4d0c-a16b-3f1479795814",
   "metadata": {},
   "outputs": [],
   "source": []
  }
 ],
 "metadata": {
  "kernelspec": {
   "display_name": "Python 3 (ipykernel)",
   "language": "python",
   "name": "python3"
  },
  "language_info": {
   "codemirror_mode": {
    "name": "ipython",
    "version": 3
   },
   "file_extension": ".py",
   "mimetype": "text/x-python",
   "name": "python",
   "nbconvert_exporter": "python",
   "pygments_lexer": "ipython3",
   "version": "3.7.13"
  },
  "vscode": {
   "interpreter": {
    "hash": "d4d1e4263499bec80672ea0156c357c1ee493ec2b1c70f0acce89fc37c4a6abe"
   }
  }
 },
 "nbformat": 4,
 "nbformat_minor": 5
}
