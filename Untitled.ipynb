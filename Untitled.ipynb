{
 "cells": [
  {
   "cell_type": "markdown",
   "id": "1727a01a-28ac-45a6-a8fd-21b4a899a3b0",
   "metadata": {},
   "source": [
    "## Merge all files"
   ]
  },
  {
   "cell_type": "code",
   "execution_count": 1,
   "id": "c0b393cb-82bc-436f-b34c-aa8b2fab3837",
   "metadata": {},
   "outputs": [],
   "source": [
    "# import pandas as pd\n",
    "# data_1 = pd.read_json('./zh_alpaca_from_openai.json')\n",
    "# data_2 = pd.read_json('./zh_alpaca_from_translate.json')\n",
    "# data_3 = pd.concat([data_1, data_2])\n",
    "# data_3.to_json('./zh_alpaca_total.json', orient='records', force_ascii=False)"
   ]
  },
  {
   "cell_type": "code",
   "execution_count": 1,
   "id": "528b504e-6add-48a2-a8a0-12546fce8575",
   "metadata": {},
   "outputs": [],
   "source": [
    "import pandas as pd"
   ]
  },
  {
   "cell_type": "code",
   "execution_count": 8,
   "id": "9fb368f2-3267-467f-9938-9623ed2b81e7",
   "metadata": {
    "tags": []
   },
   "outputs": [],
   "source": [
    "all_instructions = pd.read_json('./patent_instructions.json')"
   ]
  },
  {
   "cell_type": "code",
   "execution_count": 9,
   "id": "8d40ed7a-76b0-4950-be00-27c30628a1c0",
   "metadata": {
    "tags": []
   },
   "outputs": [
    {
     "data": {
      "text/html": [
       "<div>\n",
       "<style scoped>\n",
       "    .dataframe tbody tr th:only-of-type {\n",
       "        vertical-align: middle;\n",
       "    }\n",
       "\n",
       "    .dataframe tbody tr th {\n",
       "        vertical-align: top;\n",
       "    }\n",
       "\n",
       "    .dataframe thead th {\n",
       "        text-align: right;\n",
       "    }\n",
       "</style>\n",
       "<table border=\"1\" class=\"dataframe\">\n",
       "  <thead>\n",
       "    <tr style=\"text-align: right;\">\n",
       "      <th></th>\n",
       "      <th>instruction</th>\n",
       "      <th>input</th>\n",
       "      <th>output</th>\n",
       "    </tr>\n",
       "  </thead>\n",
       "  <tbody>\n",
       "    <tr>\n",
       "      <th>0</th>\n",
       "      <td>一种马尾千金草的种植方法</td>\n",
       "      <td></td>\n",
       "      <td>本发明涉及中药种植技术领域，尤其是一种马尾千金草的种植方法，该种植方法包括以下步骤：S1、选...</td>\n",
       "    </tr>\n",
       "    <tr>\n",
       "      <th>1</th>\n",
       "      <td>一种三箱加药系统</td>\n",
       "      <td></td>\n",
       "      <td>本发明公开了一种三箱加药系统，包括底板和滚轮，所述底板的底部设置有滚轮，所述底板的顶端设置有...</td>\n",
       "    </tr>\n",
       "    <tr>\n",
       "      <th>2</th>\n",
       "      <td>一种多功能结账装置</td>\n",
       "      <td></td>\n",
       "      <td>本发明提供了一种多功能结账装置，包括机体、称重装置、显示屏、包装袋、打包装置、传输带以及微处...</td>\n",
       "    </tr>\n",
       "    <tr>\n",
       "      <th>3</th>\n",
       "      <td>一种无卤阻燃PVC材料</td>\n",
       "      <td></td>\n",
       "      <td>本发明涉及一种无卤阻燃PVC材料，按照重量份，由以下成分组成：PVC树脂100份，增塑剂50...</td>\n",
       "    </tr>\n",
       "    <tr>\n",
       "      <th>4</th>\n",
       "      <td>一种复合环氧树脂材料</td>\n",
       "      <td></td>\n",
       "      <td>本发明涉及一种复合环氧树脂材料，其特征在于，以重量份计算，包括以下成分：环氧树脂100份、热...</td>\n",
       "    </tr>\n",
       "  </tbody>\n",
       "</table>\n",
       "</div>"
      ],
      "text/plain": [
       "    instruction input                                             output\n",
       "0  一种马尾千金草的种植方法        本发明涉及中药种植技术领域，尤其是一种马尾千金草的种植方法，该种植方法包括以下步骤：S1、选...\n",
       "1      一种三箱加药系统        本发明公开了一种三箱加药系统，包括底板和滚轮，所述底板的底部设置有滚轮，所述底板的顶端设置有...\n",
       "2     一种多功能结账装置        本发明提供了一种多功能结账装置，包括机体、称重装置、显示屏、包装袋、打包装置、传输带以及微处...\n",
       "3   一种无卤阻燃PVC材料        本发明涉及一种无卤阻燃PVC材料，按照重量份，由以下成分组成：PVC树脂100份，增塑剂50...\n",
       "4    一种复合环氧树脂材料        本发明涉及一种复合环氧树脂材料，其特征在于，以重量份计算，包括以下成分：环氧树脂100份、热..."
      ]
     },
     "execution_count": 9,
     "metadata": {},
     "output_type": "execute_result"
    }
   ],
   "source": [
    "all_instructions.head(5)"
   ]
  },
  {
   "cell_type": "code",
   "execution_count": 10,
   "id": "adfaaf09-d4e7-43a0-8b6c-1475e0cf2b53",
   "metadata": {
    "tags": []
   },
   "outputs": [
    {
     "data": {
      "text/plain": [
       "687186"
      ]
     },
     "execution_count": 10,
     "metadata": {},
     "output_type": "execute_result"
    }
   ],
   "source": [
    "len(all_instructions)"
   ]
  },
  {
   "cell_type": "code",
   "execution_count": 11,
   "id": "bd67d374-fb92-4ad4-8d1a-8cf3de1e57bc",
   "metadata": {
    "tags": []
   },
   "outputs": [],
   "source": [
    "zh_alpaca_total = pd.read_json('./zh_alpaca_total.json')"
   ]
  },
  {
   "cell_type": "code",
   "execution_count": 12,
   "id": "1da903d0-fb18-46ea-ac24-82f3e1fd61c0",
   "metadata": {
    "tags": []
   },
   "outputs": [
    {
     "data": {
      "text/plain": [
       "56083"
      ]
     },
     "execution_count": 12,
     "metadata": {},
     "output_type": "execute_result"
    }
   ],
   "source": [
    "len(zh_alpaca_total)"
   ]
  },
  {
   "cell_type": "code",
   "execution_count": null,
   "id": "6f8d527e-870d-49d9-a816-8ab2091dfb41",
   "metadata": {},
   "outputs": [],
   "source": []
  },
  {
   "cell_type": "code",
   "execution_count": null,
   "id": "deff574c-2edb-48bb-adf0-86ac809fc110",
   "metadata": {},
   "outputs": [],
   "source": []
  }
 ],
 "metadata": {
  "kernelspec": {
   "display_name": "Python 3 (ipykernel)",
   "language": "python",
   "name": "python3"
  },
  "language_info": {
   "codemirror_mode": {
    "name": "ipython",
    "version": 3
   },
   "file_extension": ".py",
   "mimetype": "text/x-python",
   "name": "python",
   "nbconvert_exporter": "python",
   "pygments_lexer": "ipython3",
   "version": "3.7.13"
  }
 },
 "nbformat": 4,
 "nbformat_minor": 5
}
